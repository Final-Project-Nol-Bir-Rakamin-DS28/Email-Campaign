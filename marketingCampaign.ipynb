{
 "cells": [
  {
   "cell_type": "markdown",
   "id": "a9c3ec0c-40be-480c-ae92-bc9bb1a9ea71",
   "metadata": {},
   "source": [
    "# Final Project Marketing Campaign "
   ]
  },
  {
   "cell_type": "markdown",
   "id": "8a1ea468-57e2-4a99-bd04-464c9394e4c5",
   "metadata": {},
   "source": [
    "## 1. Descriptive stat (+import data):"
   ]
  },
  {
   "cell_type": "markdown",
   "id": "7082f0d0-61b0-49a5-92d2-b8e3b4a413fc",
   "metadata": {},
   "source": [
    "- Dian Munawaroh"
   ]
  },
  {
   "cell_type": "code",
   "execution_count": null,
   "id": "13d139b0-8e1c-40d6-99d5-9dc777aa9c7e",
   "metadata": {},
   "outputs": [],
   "source": []
  },
  {
   "cell_type": "markdown",
   "id": "f2e9bbf4-070a-4239-bfe5-79c8a5afd863",
   "metadata": {},
   "source": [
    "## 2. Univariate analysis:"
   ]
  },
  {
   "cell_type": "markdown",
   "id": "e727ecc2-7a46-40ed-91c2-45f3e698a830",
   "metadata": {},
   "source": [
    "- Chantika Azzamy S. Yahya\n",
    "- Siti Muthmainah D"
   ]
  },
  {
   "cell_type": "code",
   "execution_count": null,
   "id": "c5541b25-cb82-42ae-8613-4dcc08511add",
   "metadata": {},
   "outputs": [],
   "source": []
  },
  {
   "cell_type": "markdown",
   "id": "8e1adc6d-8f30-4946-9f97-71a125aa3d3a",
   "metadata": {},
   "source": [
    "## 5. Multivariate analysis"
   ]
  },
  {
   "cell_type": "markdown",
   "id": "56b89c4f-1808-46c2-ae16-6a688e34be0e",
   "metadata": {},
   "source": [
    "- Andika Bumi Anugrah\n",
    "- Muhammad Hadyan"
   ]
  },
  {
   "cell_type": "code",
   "execution_count": null,
   "id": "397eeae1-bb6a-45d3-aac3-b5d8a3907a36",
   "metadata": {},
   "outputs": [],
   "source": []
  },
  {
   "cell_type": "markdown",
   "id": "4a993758-f98d-433e-a67f-4c7ab0d074f2",
   "metadata": {},
   "source": [
    "## 4. Business insight:"
   ]
  },
  {
   "cell_type": "markdown",
   "id": "c6a2e50c-861c-44f6-a70b-5d156a0c2d58",
   "metadata": {},
   "source": [
    "- Kimberly Bianca"
   ]
  },
  {
   "cell_type": "code",
   "execution_count": null,
   "id": "86769cc2-3b69-41dd-a265-6a8cc2684dc8",
   "metadata": {},
   "outputs": [],
   "source": []
  },
  {
   "cell_type": "markdown",
   "id": "46ae4945-d928-41d2-8f60-fdbd43b3ec80",
   "metadata": {},
   "source": [
    "## 5. Git:"
   ]
  },
  {
   "cell_type": "markdown",
   "id": "40bbe425-918a-4a6b-948a-e6b64d9830bc",
   "metadata": {},
   "source": [
    "- Nur Syamsu Wais Al Qorni"
   ]
  },
  {
   "cell_type": "markdown",
   "id": "0ef1601c-4004-4421-ad0f-4a52539e37ef",
   "metadata": {},
   "source": [
    "1. Membuat Organization untuk final project yang bernama Final-Project-Nol-Bir-Rakamin-DS28\n",
    "2. masukan anggota kedalam Organization\n",
    "3. membuat Repositories bernama Marketing-Campaign \n",
    "4. memamasukan anggota  kedalam Repositories untuk dapat mengerjakan task masing masing, dan mengubah role ke admin\n",
    "5. memasukan file ipynb dan README.md menggunakan push\n",
    "6. membuat branch untuk masing masing anggota\n",
    "\n"
   ]
  },
  {
   "cell_type": "code",
   "execution_count": null,
   "id": "36ef0478-326b-4311-9095-1e9fa9daa6a6",
   "metadata": {},
   "outputs": [],
   "source": []
  }
 ],
 "metadata": {
  "kernelspec": {
   "display_name": "Python 3 (ipykernel)",
   "language": "python",
   "name": "python3"
  },
  "language_info": {
   "codemirror_mode": {
    "name": "ipython",
    "version": 3
   },
   "file_extension": ".py",
   "mimetype": "text/x-python",
   "name": "python",
   "nbconvert_exporter": "python",
   "pygments_lexer": "ipython3",
   "version": "3.9.13"
  }
 },
 "nbformat": 4,
 "nbformat_minor": 5
}
